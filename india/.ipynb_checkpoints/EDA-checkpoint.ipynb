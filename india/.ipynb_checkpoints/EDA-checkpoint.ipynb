{
 "cells": [
  {
   "cell_type": "code",
   "execution_count": 1,
   "metadata": {},
   "outputs": [],
   "source": [
    "import pandas as pd\n",
    "#import pandas as pd\n",
    "import numpy as np\n",
    "#import seaborn as sns\n",
    "from matplotlib import pyplot as plt\n",
    "#import plotly.graph_objects as go\n",
    "#from fbprophet import Prophet\n",
    "#import pycountry"
   ]
  },
  {
   "cell_type": "code",
   "execution_count": 2,
   "metadata": {},
   "outputs": [],
   "source": [
    "df = pd.read_csv('covid_19_india.csv')\n",
    "df.drop(columns=['Sno','ConfirmedIndianNational','ConfirmedForeignNational','Time'],inplace=True)\n",
    "#df_sort=df\n",
    "#df_sort['Date']=pd.to_datetime(df['Date'].values)\n",
    "#df_sort=df_sort.sort_values([\"Date\"])"
   ]
  },
  {
   "cell_type": "code",
   "execution_count": 3,
   "metadata": {},
   "outputs": [],
   "source": [
    "df.head()"
   ]
  },
  {
   "cell_type": "code",
   "execution_count": 4,
   "metadata": {},
   "outputs": [],
   "source": [
    "#df['Date'] =pd.to_datetime(df.Date)\n",
    "df=df.groupby(['State/UnionTerritory',\"Date\"]).head()\n",
    "df=df.dropna()\n",
    "States=np.unique(df['State/UnionTerritory'].values)\n",
    "States=States[States!='Unassigned']\n",
    "#States"
   ]
  },
  {
   "cell_type": "code",
   "execution_count": 6,
   "metadata": {},
   "outputs": [],
   "source": [
    "top5aff_states=df.groupby(['State/UnionTerritory']).max().sort_values(['Confirmed'],ascending=False)[:5].index.values\n",
    "#print(top5aff_states)"
   ]
  },
  {
   "cell_type": "code",
   "execution_count": 6,
   "metadata": {},
   "outputs": [],
   "source": [
    "dates=df[df['State/UnionTerritory'] == 'Kerala']['Date'].values\n",
    "refined_df_confirmed=pd.DataFrame(columns=dates,index=States)\n",
    "refined_df_cured=pd.DataFrame(columns=dates,index=States)\n",
    "refined_df_deaths=pd.DataFrame(columns=dates,index=States)"
   ]
  },
  {
   "cell_type": "code",
   "execution_count": 7,
   "metadata": {},
   "outputs": [
    {
     "name": "stderr",
     "output_type": "stream",
     "text": [
      "/home/srashti/anaconda3/lib/python3.7/site-packages/pandas/core/frame.py:6692: FutureWarning: Sorting because non-concatenation axis is not aligned. A future version\n",
      "of pandas will change to not sort by default.\n",
      "\n",
      "To accept the future behavior, pass 'sort=False'.\n",
      "\n",
      "To retain the current behavior and silence the warning, pass 'sort=True'.\n",
      "\n",
      "  sort=sort)\n"
     ]
    }
   ],
   "source": [
    "\n",
    "for state in States:\n",
    "    df1=df[df['State/UnionTerritory'] == state]\n",
    "    \n",
    "    rec_date_idx=np.where(dates==df1['Date'].values[0])[0][0]\n",
    "   # print(state)\n",
    "    if rec_date_idx >0:\n",
    "        df2=pd.DataFrame()\n",
    "        df2['Date']=dates[:rec_date_idx]\n",
    "        df2['Confirmed'] =  np.zeros(rec_date_idx)\n",
    "        #df2['ConfirmedForeignNational'] = np.zeros(rec_date_idx)\n",
    "        df2['Cured']=np.zeros(rec_date_idx)\n",
    "        df2['Deaths']=np.zeros(rec_date_idx)\n",
    "        df2['State/UnionTerritory']=state\n",
    "        df2=df2.append(df1,ignore_index=True)\n",
    "    else: \n",
    "        df2=df1\n",
    "    refined_df_confirmed.loc[state]=df2['Confirmed'].values\n",
    "    refined_df_cured.loc[state]=df2['Cured'].values\n",
    "\n",
    "    refined_df_deaths.loc[state]=df2['Deaths'].values\n",
    "\n",
    "    #df2.to_csv(state+'.csv',index=False)\n",
    "refined_df_confirmed.index.name='State/UT'\n",
    "refined_df_cured.index.name='State/UT'\n",
    "refined_df_deaths.index.name='State/UT'\n",
    "\n",
    "refined_df_cured.to_csv('refined_df_cured.csv')\n",
    "refined_df_deaths\n",
    "    \n",
    "    \n",
    "refined_df_confirmed.to_csv('refined_df_confirmed.csv')\n",
    "refined_df_cured.to_csv('refined_df_cured.csv')\n",
    "refined_df_deaths.to_csv('refined_df_deaths.csv')"
   ]
  },
  {
   "cell_type": "code",
   "execution_count": 8,
   "metadata": {},
   "outputs": [
    {
     "data": {
      "text/plain": [
       "'\\nplt.figure(figsize=(10,10))\\n\\nfor state in States:\\n    df1=pd.read_csv(\\'refined_data_all_dates/\\'+state+\\'.csv\\')\\n    df1=df1[30:]\\n    plt.plot(df1[\\'Date\\'].values,df1[\\'Confirmed\\'].values,\"-\",label=state)\\n    #np.savetxt(state+\\'.txt\\',df1[\\'ConfirmedIndianNational\\']+df1[\\'ConfirmedForeignNational\\'])\\nplt.xticks(rotation=90)\\nplt.legend()\\nplt.yscale(\\'log\\')\\nplt.savefig(\\'indian_states.png\\')\\n'"
      ]
     },
     "execution_count": 8,
     "metadata": {},
     "output_type": "execute_result"
    }
   ],
   "source": [
    "'''\n",
    "plt.figure(figsize=(10,10))\n",
    "\n",
    "for state in States:\n",
    "    df1=pd.read_csv('refined_data_all_dates/'+state+'.csv')\n",
    "    df1=df1[30:]\n",
    "    plt.plot(df1['Date'].values,df1['Confirmed'].values,\"-\",label=state)\n",
    "    #np.savetxt(state+'.txt',df1['ConfirmedIndianNational']+df1['ConfirmedForeignNational'])\n",
    "plt.xticks(rotation=90)\n",
    "plt.legend()\n",
    "plt.yscale('log')\n",
    "plt.savefig('indian_states.png')\n",
    "'''"
   ]
  },
  {
   "cell_type": "code",
   "execution_count": null,
   "metadata": {},
   "outputs": [],
   "source": []
  }
 ],
 "metadata": {
  "kernelspec": {
   "display_name": "Python 3",
   "language": "python",
   "name": "python3"
  },
  "language_info": {
   "codemirror_mode": {
    "name": "ipython",
    "version": 3
   },
   "file_extension": ".py",
   "mimetype": "text/x-python",
   "name": "python",
   "nbconvert_exporter": "python",
   "pygments_lexer": "ipython3",
   "version": "3.7.0"
  }
 },
 "nbformat": 4,
 "nbformat_minor": 2
}
