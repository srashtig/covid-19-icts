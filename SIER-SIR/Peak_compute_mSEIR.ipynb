{
 "cells": [
  {
   "cell_type": "code",
   "execution_count": 48,
   "metadata": {},
   "outputs": [],
   "source": [
    "import numpy as np\n",
    "#from __future__ import print_function     #for python 2\n",
    "def compute_peak_ak(D0,alpha,sigma,N,gamma,R0,mu):\n",
    "    \n",
    "    I0=gamma*D0/(1-alpha)\n",
    "    Im=sigma/(gamma+sigma) *(1-(1+np.log(R0))/R0)*N\n",
    "    Tm = 1/mu * np.log(Im/I0)\n",
    "    PDC = (1-alpha)*gamma*Im\n",
    "    \n",
    "    return {'Tm(days)':Tm,'PDC':PDC}\n",
    "\n",
    "\n",
    "def compute_peak_ad(D0,alpha,sigma,N,gamma,R0,mu):\n",
    "    gamma_p = gamma\n",
    "    gamma_e = gamma/(1-alpha/3)\n",
    "    \n",
    "    Ip0=D0/gamma_p\n",
    "    Im=sigma/(gamma_e+sigma) *(1-(1+np.log(R0))/R0)*N\n",
    "    Ipm = (1-alpha)*gamma_e*Im/gamma_p\n",
    "    Tm = 1/mu * np.log(Im/Ip0)\n",
    "    Dpm = Ipm*gamma_p#(1-alpha)*gamma*Im\n",
    "    \n",
    "    return {'Tm(days)':Tm,'PDC':Dpm}"
   ]
  },
  {
   "cell_type": "code",
   "execution_count": 51,
   "metadata": {},
   "outputs": [
    {
     "name": "stdout",
     "output_type": "stream",
     "text": [
      "AK: {'Tm(days)': 175.67720958764215, 'PDC': 30185.610332431548}\n",
      "AD: {'Tm(days)': 131.8937982457827, 'PDC': 35914.89048051346}\n"
     ]
    }
   ],
   "source": [
    "#Delhi: \n",
    "\n",
    "## using values from the mail\n",
    "\n",
    "alpha,sigma,gamma,R0=0.67,1/2,1/5,1.33\n",
    "\n",
    "D0,N,mu=115.6,1.9e7,0.05\n",
    "\n",
    "print('AK:',compute_peak_ak(D0,alpha,sigma,N,gamma,R0,mu))\n",
    "print('AD:',compute_peak_ad(D0,alpha,sigma,N,gamma,R0,mu))\n"
   ]
  },
  {
   "cell_type": "code",
   "execution_count": 50,
   "metadata": {},
   "outputs": [
    {
     "name": "stdout",
     "output_type": "stream",
     "text": [
      "AK: {'Tm(days)': 219.14564473158524, 'PDC': 2065331.233271632}\n",
      "AD: {'Tm(days)': 175.3622333897258, 'PDC': 2457334.611824605}\n"
     ]
    }
   ],
   "source": [
    "#India:\n",
    "## using values from 22may20, Table 1, 1st set.\n",
    "\n",
    "alpha,sigma,gamma,R0=0.67,1/2,1/5,1.33\n",
    "\n",
    "D0,N,mu=900,1.3e9,0.05\n",
    "\n",
    "print('AK:',compute_peak_ak(D0,alpha,sigma,N,gamma,R0,mu))\n",
    "print('AD:',compute_peak_ad(D0,alpha,sigma,N,gamma,R0,mu))\n"
   ]
  },
  {
   "cell_type": "code",
   "execution_count": null,
   "metadata": {},
   "outputs": [],
   "source": []
  },
  {
   "cell_type": "code",
   "execution_count": null,
   "metadata": {},
   "outputs": [],
   "source": []
  }
 ],
 "metadata": {
  "kernelspec": {
   "display_name": "Python 3",
   "language": "python",
   "name": "python3"
  },
  "language_info": {
   "codemirror_mode": {
    "name": "ipython",
    "version": 3
   },
   "file_extension": ".py",
   "mimetype": "text/x-python",
   "name": "python",
   "nbconvert_exporter": "python",
   "pygments_lexer": "ipython3",
   "version": "3.7.6"
  }
 },
 "nbformat": 4,
 "nbformat_minor": 4
}
