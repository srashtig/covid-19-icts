{
 "cells": [
  {
   "cell_type": "code",
   "execution_count": 1,
   "metadata": {},
   "outputs": [
    {
     "name": "stdout",
     "output_type": "stream",
     "text": [
      "countries to choose from:  Index(['US', 'Spain', 'Italy', 'France', 'Germany', 'United Kingdom', 'China',\n",
      "       'Iran', 'Turkey', 'Belgium', 'Netherlands', 'Canada', 'Switzerland',\n",
      "       'Brazil', 'Russia', 'Portugal', 'Austria', 'Israel', 'India', 'Ireland',\n",
      "       'Sweden', 'Korea, South', 'Peru', 'Chile', 'Japan', 'Ecuador', 'Poland',\n",
      "       'Romania', 'Denmark', 'Norway', 'Australia', 'Czechia', 'Pakistan',\n",
      "       'Saudi Arabia', 'Philippines', 'Mexico', 'Malaysia',\n",
      "       'United Arab Emirates', 'Indonesia', 'Serbia'],\n",
      "      dtype='object', name='Country')\n"
     ]
    }
   ],
   "source": [
    "import numpy as np\n",
    "import matplotlib.pyplot as plt\n",
    "from scipy import integrate, optimize\n",
    "import pandas as pd\n",
    "from scipy.optimize import minimize\n",
    "from sklearn.metrics import mean_squared_log_error, mean_squared_error\n",
    "import os\n",
    "import matplotlib.pylab as plt\n",
    "import scipy\n",
    "\n",
    "# loading time series data\n",
    "\n",
    "url='https://raw.githubusercontent.com/CSSEGISandData/COVID-19/master/csse_covid_19_data/csse_covid_19_time_series/'\n",
    "df_confirmed = pd.read_csv(url + 'time_series_covid19_confirmed_global.csv',error_bad_lines=False)  #( time_series_19-covid-Confirmed.csv)\n",
    "df_confirmed.rename(columns={'Country/Region':'Country'}, inplace=True)\n",
    "\n",
    "#df = pd.read_csv(url, error_bad_lines=False)\n",
    "date='4/14/20'\n",
    "odir='seiirr_UK_' + date.replace('/','_') + '/'\n",
    "try:  \n",
    "    os.mkdir(odir)  \n",
    "except OSError as error:  \n",
    "    print('Directory exists: ', odir)\n",
    "\n",
    "df_confirmed=df_confirmed.groupby(['Country']).sum()\n",
    "df_confirmed=df_confirmed.drop(columns=['Lat','Long'])\n",
    "top_affected_countries=df_confirmed.sort_values([date],ascending=False).index[:40].values #20/20\n",
    "\n",
    "df=df_confirmed.loc[top_affected_countries,:]\n",
    "\n",
    "\n",
    "\n",
    "#df= pd.read_csv(\"confirmed-data-top-affected-countries.csv\")\n",
    "\n",
    "'''\n",
    "import os\n",
    "date='3/29/20'\n",
    "odir = date.replace('/','_') + '/'\n",
    "\n",
    "df= pd.read_csv(\"../countries-spread-rate/\"+odir+\"confirmed-data-top-affected-countries.csv\")\n",
    "try:  \n",
    "    os.mkdir(odir)  \n",
    "except OSError as error:  \n",
    "    print(error)\n",
    "'''    \n",
    "\n",
    "print('countries to choose from: ', df.index)\n",
    "\n",
    "# loading population data\n",
    "df_pop=pd.read_csv(\"population_by_country_2020.csv\")\n",
    "\n",
    "\n"
   ]
  },
  {
   "cell_type": "code",
   "execution_count": 3,
   "metadata": {},
   "outputs": [],
   "source": [
    "df.to_csv('data_till_now.csv')"
   ]
  },
  {
   "cell_type": "code",
   "execution_count": 53,
   "metadata": {},
   "outputs": [],
   "source": [
    "from matplotlib import rc\n",
    "#matplotlib.rc('text.latex', preamble='\\\\usepackage{txfonts}')\n",
    "\n",
    "\n",
    "#rc('text', usetex=True)\n",
    "#rc('font', family='serif')\n",
    "#rc('font', serif='times')\n",
    "rc('mathtext', default='sf')\n",
    "rc(\"lines\", markeredgewidth=1)\n",
    "rc(\"lines\", linewidth=2)\n",
    "rc('axes', labelsize=16)  # 24\n",
    "rc(\"axes\", linewidth=0.5)  # 2)\n",
    "rc('xtick', labelsize=14)\n",
    "rc('ytick', labelsize=14)\n",
    "rc('legend', fontsize=10)  # 16\n",
    "rc('xtick.major', pad=6)  # 8)\n",
    "rc('ytick.major', pad=6)  # 8)\n",
    "rc('xtick.minor', size=5)  # 8)\n",
    "rc('ytick.minor', size=5)  # 8)"
   ]
  },
  {
   "cell_type": "code",
   "execution_count": 54,
   "metadata": {},
   "outputs": [
    {
     "data": {
      "text/html": [
       "<div>\n",
       "<style scoped>\n",
       "    .dataframe tbody tr th:only-of-type {\n",
       "        vertical-align: middle;\n",
       "    }\n",
       "\n",
       "    .dataframe tbody tr th {\n",
       "        vertical-align: top;\n",
       "    }\n",
       "\n",
       "    .dataframe thead th {\n",
       "        text-align: right;\n",
       "    }\n",
       "</style>\n",
       "<table border=\"1\" class=\"dataframe\">\n",
       "  <thead>\n",
       "    <tr style=\"text-align: right;\">\n",
       "      <th></th>\n",
       "      <th>2/15/20</th>\n",
       "      <th>2/16/20</th>\n",
       "      <th>2/17/20</th>\n",
       "      <th>2/18/20</th>\n",
       "      <th>2/19/20</th>\n",
       "      <th>2/20/20</th>\n",
       "      <th>2/21/20</th>\n",
       "      <th>2/22/20</th>\n",
       "      <th>2/23/20</th>\n",
       "      <th>2/24/20</th>\n",
       "      <th>...</th>\n",
       "      <th>4/2/20</th>\n",
       "      <th>4/3/20</th>\n",
       "      <th>4/4/20</th>\n",
       "      <th>4/5/20</th>\n",
       "      <th>4/6/20</th>\n",
       "      <th>4/7/20</th>\n",
       "      <th>4/8/20</th>\n",
       "      <th>4/9/20</th>\n",
       "      <th>4/10/20</th>\n",
       "      <th>4/11/20</th>\n",
       "    </tr>\n",
       "    <tr>\n",
       "      <th>Country</th>\n",
       "      <th></th>\n",
       "      <th></th>\n",
       "      <th></th>\n",
       "      <th></th>\n",
       "      <th></th>\n",
       "      <th></th>\n",
       "      <th></th>\n",
       "      <th></th>\n",
       "      <th></th>\n",
       "      <th></th>\n",
       "      <th></th>\n",
       "      <th></th>\n",
       "      <th></th>\n",
       "      <th></th>\n",
       "      <th></th>\n",
       "      <th></th>\n",
       "      <th></th>\n",
       "      <th></th>\n",
       "      <th></th>\n",
       "      <th></th>\n",
       "      <th></th>\n",
       "    </tr>\n",
       "  </thead>\n",
       "  <tbody>\n",
       "    <tr>\n",
       "      <th>US</th>\n",
       "      <td>13</td>\n",
       "      <td>13</td>\n",
       "      <td>13</td>\n",
       "      <td>13</td>\n",
       "      <td>13</td>\n",
       "      <td>13</td>\n",
       "      <td>15</td>\n",
       "      <td>15</td>\n",
       "      <td>15</td>\n",
       "      <td>51</td>\n",
       "      <td>...</td>\n",
       "      <td>243762</td>\n",
       "      <td>275586</td>\n",
       "      <td>308853</td>\n",
       "      <td>337072</td>\n",
       "      <td>366667</td>\n",
       "      <td>396223</td>\n",
       "      <td>429052</td>\n",
       "      <td>461437</td>\n",
       "      <td>496535</td>\n",
       "      <td>526396</td>\n",
       "    </tr>\n",
       "    <tr>\n",
       "      <th>Spain</th>\n",
       "      <td>2</td>\n",
       "      <td>2</td>\n",
       "      <td>2</td>\n",
       "      <td>2</td>\n",
       "      <td>2</td>\n",
       "      <td>2</td>\n",
       "      <td>2</td>\n",
       "      <td>2</td>\n",
       "      <td>2</td>\n",
       "      <td>2</td>\n",
       "      <td>...</td>\n",
       "      <td>112065</td>\n",
       "      <td>119199</td>\n",
       "      <td>126168</td>\n",
       "      <td>131646</td>\n",
       "      <td>136675</td>\n",
       "      <td>141942</td>\n",
       "      <td>148220</td>\n",
       "      <td>153222</td>\n",
       "      <td>158273</td>\n",
       "      <td>163027</td>\n",
       "    </tr>\n",
       "    <tr>\n",
       "      <th>Italy</th>\n",
       "      <td>3</td>\n",
       "      <td>3</td>\n",
       "      <td>3</td>\n",
       "      <td>3</td>\n",
       "      <td>3</td>\n",
       "      <td>3</td>\n",
       "      <td>20</td>\n",
       "      <td>62</td>\n",
       "      <td>155</td>\n",
       "      <td>229</td>\n",
       "      <td>...</td>\n",
       "      <td>115242</td>\n",
       "      <td>119827</td>\n",
       "      <td>124632</td>\n",
       "      <td>128948</td>\n",
       "      <td>132547</td>\n",
       "      <td>135586</td>\n",
       "      <td>139422</td>\n",
       "      <td>143626</td>\n",
       "      <td>147577</td>\n",
       "      <td>152271</td>\n",
       "    </tr>\n",
       "    <tr>\n",
       "      <th>France</th>\n",
       "      <td>12</td>\n",
       "      <td>12</td>\n",
       "      <td>12</td>\n",
       "      <td>12</td>\n",
       "      <td>12</td>\n",
       "      <td>12</td>\n",
       "      <td>12</td>\n",
       "      <td>12</td>\n",
       "      <td>12</td>\n",
       "      <td>12</td>\n",
       "      <td>...</td>\n",
       "      <td>59929</td>\n",
       "      <td>65202</td>\n",
       "      <td>90848</td>\n",
       "      <td>93773</td>\n",
       "      <td>98963</td>\n",
       "      <td>110065</td>\n",
       "      <td>113959</td>\n",
       "      <td>118781</td>\n",
       "      <td>125931</td>\n",
       "      <td>130727</td>\n",
       "    </tr>\n",
       "    <tr>\n",
       "      <th>Germany</th>\n",
       "      <td>16</td>\n",
       "      <td>16</td>\n",
       "      <td>16</td>\n",
       "      <td>16</td>\n",
       "      <td>16</td>\n",
       "      <td>16</td>\n",
       "      <td>16</td>\n",
       "      <td>16</td>\n",
       "      <td>16</td>\n",
       "      <td>16</td>\n",
       "      <td>...</td>\n",
       "      <td>84794</td>\n",
       "      <td>91159</td>\n",
       "      <td>96092</td>\n",
       "      <td>100123</td>\n",
       "      <td>103374</td>\n",
       "      <td>107663</td>\n",
       "      <td>113296</td>\n",
       "      <td>118181</td>\n",
       "      <td>122171</td>\n",
       "      <td>124908</td>\n",
       "    </tr>\n",
       "  </tbody>\n",
       "</table>\n",
       "<p>5 rows × 57 columns</p>\n",
       "</div>"
      ],
      "text/plain": [
       "         2/15/20  2/16/20  2/17/20  2/18/20  2/19/20  2/20/20  2/21/20  \\\n",
       "Country                                                                  \n",
       "US            13       13       13       13       13       13       15   \n",
       "Spain          2        2        2        2        2        2        2   \n",
       "Italy          3        3        3        3        3        3       20   \n",
       "France        12       12       12       12       12       12       12   \n",
       "Germany       16       16       16       16       16       16       16   \n",
       "\n",
       "         2/22/20  2/23/20  2/24/20  ...  4/2/20  4/3/20  4/4/20  4/5/20  \\\n",
       "Country                             ...                                   \n",
       "US            15       15       51  ...  243762  275586  308853  337072   \n",
       "Spain          2        2        2  ...  112065  119199  126168  131646   \n",
       "Italy         62      155      229  ...  115242  119827  124632  128948   \n",
       "France        12       12       12  ...   59929   65202   90848   93773   \n",
       "Germany       16       16       16  ...   84794   91159   96092  100123   \n",
       "\n",
       "         4/6/20  4/7/20  4/8/20  4/9/20  4/10/20  4/11/20  \n",
       "Country                                                    \n",
       "US       366667  396223  429052  461437   496535   526396  \n",
       "Spain    136675  141942  148220  153222   158273   163027  \n",
       "Italy    132547  135586  139422  143626   147577   152271  \n",
       "France    98963  110065  113959  118781   125931   130727  \n",
       "Germany  103374  107663  113296  118181   122171   124908  \n",
       "\n",
       "[5 rows x 57 columns]"
      ]
     },
     "execution_count": 54,
     "metadata": {},
     "output_type": "execute_result"
    }
   ],
   "source": [
    "start_from=np.where(df.columns == '2/15/20')[0][0]\n",
    "df=df[df.columns[start_from:]]\n",
    "df.head()"
   ]
  },
  {
   "cell_type": "code",
   "execution_count": 368,
   "metadata": {},
   "outputs": [],
   "source": [
    "country = 'United Kingdom'\n",
    "ydata=df.loc[country].values\n",
    "t0=np.where(ydata>100)[0][0]\n",
    "t=np.arange(t0,t0+14)"
   ]
  },
  {
   "cell_type": "code",
   "execution_count": 369,
   "metadata": {},
   "outputs": [
    {
     "name": "stdout",
     "output_type": "stream",
     "text": [
      "19 1.0792651703236704 0.24308219863652322\n"
     ]
    },
    {
     "data": {
      "image/png": "[encoded data removed]",
      "text/plain": [
       "<Figure size 432x288 with 1 Axes>"
      ]
     },
     "metadata": {
      "needs_background": "light"
     },
     "output_type": "display_data"
    }
   ],
   "source": [
    "plt.plot(ydata)\n",
    "plt.plot(t,ydata[t])\n",
    "(rd0,lam),pconv=scipy.optimize.curve_fit(lambda x,a,b: a*np.exp(b*x),  t,  ydata[t],  p0=(0.5, 0.3))\n",
    "plt.plot(t,rd0*np.exp(lam*t),'.')\n",
    "plt.yscale(\"log\")\n",
    "plt.grid()\n",
    "print(t0,rd0,lam)\n"
   ]
  },
  {
   "cell_type": "code",
   "execution_count": 370,
   "metadata": {},
   "outputs": [],
   "source": [
    "def seiirr_ivp(x,y,p,beta,Td,Tr,Tl,N):\n",
    "    S,E,Iu,Id,Rd,Ru = y\n",
    "    sigma = 1/Tl\n",
    "    Sd = -beta * (Id + Iu) * S/N\n",
    "    Ed = beta * (Id + Iu) * S/N - sigma * E\n",
    "    Iud = (1-p) * sigma * E - Iu/Tr\n",
    "    Idd = p * sigma * E - Id/Td\n",
    "    Rdd = Id/Td\n",
    "    Rud = Iu/Tr\n",
    "    return Sd, Ed, Iud, Idd, Rdd, Rud"
   ]
  },
  {
   "cell_type": "code",
   "execution_count": 371,
   "metadata": {},
   "outputs": [
    {
     "name": "stdout",
     "output_type": "stream",
     "text": [
      "[-0.50982271  0.2430822  -0.1427833 ]\n"
     ]
    }
   ],
   "source": [
    "population=df_pop[df_pop[\"Country (or dependency)\"]=='United Kingdom'][\"Population (2020)\"].values[0]\n",
    "l=None\n",
    "N = population\n",
    "Tl = 5\n",
    "Tr = 15\n",
    "Td = 7\n",
    "\n",
    "sigma= 1./Tl\n",
    "gammaD = 1./Td\n",
    "gammaR= 1./Tr\n",
    "\n",
    "p=0.001\n",
    "Rd0=rd0*np.exp(lam*t0)\n",
    "\n",
    "beta=(lam+sigma)*(lam+gammaD)*(lam+gammaR)/(sigma*(lam+gammaD-p*(gammaD-gammaR)))\n",
    "coeff=[1,(gammaD + gammaR + sigma), gammaD*gammaR + sigma*(gammaD+gammaR-beta), p*beta*sigma*(gammaD-gammaR) + sigma*gammaD*(gammaR-beta) ]\n",
    "coeff=np.array(coeff)\n",
    "lambdas=np.roots(coeff)\n",
    "print(lambdas)\n",
    "\n"
   ]
  },
  {
   "cell_type": "code",
   "execution_count": 387,
   "metadata": {},
   "outputs": [
    {
     "data": {
      "image/png": "[encoded data removed]",
      "text/plain": [
       "<Figure size 432x288 with 1 Axes>"
      ]
     },
     "metadata": {
      "needs_background": "light"
     },
     "output_type": "display_data"
    }
   ],
   "source": [
    "Rd0=rd0*np.exp(lam*t0)\n",
    "beta=(lam+sigma)*(lam+gammaD)*(lam+gammaR)/(sigma*(lam+gammaD-p*(gammaD-gammaR)))\n",
    "max_days=t0+14#len(ydata)\n",
    "#beta=0.68\n",
    "Id0= lam/gammaD * Rd0\n",
    "E0 = (gammaD+lam)*Id0/(p*sigma)\n",
    "Iu0 = (1-p)*sigma*E0/(gammaR + lam)\n",
    "Ru0 = gammaR/lam *Iu0\n",
    "S0 =  N-(sigma+lam)/lam * E0\n",
    "sol = integrate.solve_ivp(seiirr_ivp, [t0, max_days+1], [S0, E0, Iu0, Id0, Rd0, Ru0], args=(p,beta,Td,Tr,Tl,N),t_eval=np.arange(t0,max_days),method='RK45')\n",
    "plt.plot(ydata)\n",
    "plt.plot(sol.t,sol.y[4,:],label = 'ODE R_d' ,linewidth=2)\n",
    "#plt.plot(sol.t,sol.y[2,:],label='I_u')\n",
    "#plt.plot(sol.t,sol.y[3,:],label='I_d')\n",
    "plt.yscale('log')"
   ]
  },
  {
   "cell_type": "code",
   "execution_count": 373,
   "metadata": {},
   "outputs": [],
   "source": [
    "l0=lambdas[lambdas>0][0]\n",
    "l1,l2=lambdas[lambdas<0]"
   ]
  },
  {
   "cell_type": "code",
   "execution_count": 374,
   "metadata": {},
   "outputs": [
    {
     "name": "stdout",
     "output_type": "stream",
     "text": [
      "147183.81779973547 218.97658934233107 -0.5098227128526712 -0.1427832953076611\n"
     ]
    },
    {
     "data": {
      "image/png": "[encoded data removed]",
      "text/plain": [
       "<Figure size 432x288 with 1 Axes>"
      ]
     },
     "metadata": {
      "needs_background": "light"
     },
     "output_type": "display_data"
    }
   ],
   "source": [
    "yrem=ydata[t]-rd0*np.exp(l0*t)\n",
    "(rd1,rd2),pconv=scipy.optimize.curve_fit(lambda x,rd1,rd2: rd1*np.exp(x*l1)+rd2*np.exp(x*l2),  t,  yrem,  p0=(400, -400))\n",
    "plt.plot(t,rd1*np.exp(t*l1)+rd2*np.exp(t*l2))\n",
    "plt.plot(t,yrem,'.')\n",
    "print(rd1,rd2,l1,l2)"
   ]
  },
  {
   "cell_type": "code",
   "execution_count": 392,
   "metadata": {},
   "outputs": [
    {
     "data": {
      "image/png": "[encoded data removed]",
      "text/plain": [
       "<Figure size 432x288 with 1 Axes>"
      ]
     },
     "metadata": {
      "needs_background": "light"
     },
     "output_type": "display_data"
    }
   ],
   "source": [
    "Rd0=rd0*np.exp(l0*t0)\n",
    "Rd1=rd1*np.exp(l1*t0)\n",
    "Rd2=rd2*np.exp(l2*t0)\n",
    "beta=(lam+sigma)*(lam+gammaD)*(lam+gammaR)/(sigma*(lam+gammaD-p*(gammaD-gammaR)))\n",
    "max_days=len(ydata)\n",
    "def ics(lam,Rd0):    \n",
    "    Id0= lam/gammaD * Rd0\n",
    "    E0 = (gammaD+lam)*Id0/(p*sigma)\n",
    "    Iu0 = (1-p)*sigma*E0/(gammaR + lam)\n",
    "    Ru0 = gammaR/lam *Iu0\n",
    "    S0 =  -(sigma+lam)/lam * E0\n",
    "    return np.array([N-S0, E0, Iu0, Id0, Rd0, Ru0])\n",
    "y0 = ics(l0,Rd0) + ics(l1,Rd1)+ics(l2,Rd2) \n",
    "beta=0.18\n",
    "sol = integrate.solve_ivp(seiirr_ivp, [t0, max_days+1], y0, args=(p,beta,Td,Tr,Tl,N),t_eval=np.arange(t0,max_days),method='RK45')\n",
    "plt.plot(ydata)\n",
    "plt.plot(sol.t,sol.y[4,:],label = 'ODE R_d' ,linewidth=2)\n",
    "#plt.plot(sol.t,sol.y[2,:],label='I_u')\n",
    "#plt.plot(sol.t,sol.y[3,:],label='I_d')\n",
    "plt.yscale('log')"
   ]
  },
  {
   "cell_type": "code",
   "execution_count": 300,
   "metadata": {},
   "outputs": [
    {
     "data": {
      "text/plain": [
       "array([-3.83938898e+05,  2.32824481e+05,  1.13617929e+05,  1.38954185e+02,\n",
       "        1.33051767e+02,  3.72244824e+04])"
      ]
     },
     "execution_count": 300,
     "metadata": {},
     "output_type": "execute_result"
    }
   ],
   "source": [
    "y0"
   ]
  },
  {
   "cell_type": "code",
   "execution_count": 376,
   "metadata": {},
   "outputs": [
    {
     "data": {
      "text/plain": [
       "0.68635653885897"
      ]
     },
     "execution_count": 376,
     "metadata": {},
     "output_type": "execute_result"
    }
   ],
   "source": [
    "beta"
   ]
  },
  {
   "cell_type": "code",
   "execution_count": null,
   "metadata": {},
   "outputs": [],
   "source": []
  }
 ],
 "metadata": {
  "kernelspec": {
   "display_name": "Python 3",
   "language": "python",
   "name": "python3"
  },
  "language_info": {
   "codemirror_mode": {
    "name": "ipython",
    "version": 3
   },
   "file_extension": ".py",
   "mimetype": "text/x-python",
   "name": "python",
   "nbconvert_exporter": "python",
   "pygments_lexer": "ipython3",
   "version": "3.7.0"
  }
 },
 "nbformat": 4,
 "nbformat_minor": 2
}
